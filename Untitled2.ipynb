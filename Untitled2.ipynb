{
  "nbformat": 4,
  "nbformat_minor": 0,
  "metadata": {
    "colab": {
      "provenance": []
    },
    "kernelspec": {
      "name": "python3",
      "display_name": "Python 3"
    },
    "language_info": {
      "name": "python"
    }
  },
  "cells": [
    {
      "cell_type": "code",
      "source": [
        "!pip install pymorphy2"
      ],
      "metadata": {
        "id": "uZVi-gb-uUIw",
        "colab": {
          "base_uri": "https://localhost:8080/"
        },
        "outputId": "398bfdbf-7e61-4e9e-ad15-165e9fe41712"
      },
      "execution_count": 2,
      "outputs": [
        {
          "output_type": "stream",
          "name": "stdout",
          "text": [
            "Requirement already satisfied: pymorphy2 in /usr/local/lib/python3.10/dist-packages (0.9.1)\n",
            "Requirement already satisfied: dawg-python>=0.7.1 in /usr/local/lib/python3.10/dist-packages (from pymorphy2) (0.7.2)\n",
            "Requirement already satisfied: pymorphy2-dicts-ru<3.0,>=2.4 in /usr/local/lib/python3.10/dist-packages (from pymorphy2) (2.4.417127.4579844)\n",
            "Requirement already satisfied: docopt>=0.6 in /usr/local/lib/python3.10/dist-packages (from pymorphy2) (0.6.2)\n"
          ]
        }
      ]
    },
    {
      "cell_type": "code",
      "execution_count": 1,
      "metadata": {
        "colab": {
          "base_uri": "https://localhost:8080/"
        },
        "id": "EjBMgkZ8taaP",
        "outputId": "13d516eb-7fe9-4dc6-e110-4bebd9fdf6b8"
      },
      "outputs": [
        {
          "output_type": "stream",
          "name": "stdout",
          "text": [
            "Cloning into 'RecVacSys'...\n",
            "remote: Enumerating objects: 38, done.\u001b[K\n",
            "remote: Counting objects: 100% (38/38), done.\u001b[K\n",
            "remote: Compressing objects: 100% (26/26), done.\u001b[K\n",
            "remote: Total 38 (delta 10), reused 33 (delta 8), pack-reused 0\u001b[K\n",
            "Receiving objects: 100% (38/38), 2.40 MiB | 8.89 MiB/s, done.\n",
            "Resolving deltas: 100% (10/10), done.\n"
          ]
        }
      ],
      "source": [
        "!git clone https://github.com/CheremGS/RecVacSys.git"
      ]
    },
    {
      "cell_type": "code",
      "source": [
        "%cd RecVacSys/"
      ],
      "metadata": {
        "id": "IoSKo7_0tfVn",
        "colab": {
          "base_uri": "https://localhost:8080/"
        },
        "outputId": "34eb7fb1-0108-487e-a654-f67974db62ce"
      },
      "execution_count": 3,
      "outputs": [
        {
          "output_type": "stream",
          "name": "stdout",
          "text": [
            "/content/RecVacSys\n"
          ]
        }
      ]
    },
    {
      "cell_type": "code",
      "source": [
        "import gensim\n",
        "from tqdm import tqdm, trange"
      ],
      "metadata": {
        "id": "TJiKIdoK1nbR"
      },
      "execution_count": 43,
      "outputs": []
    },
    {
      "cell_type": "code",
      "source": [
        "import matplotlib.pyplot as plt"
      ],
      "metadata": {
        "id": "08zN_z_w5Uke"
      },
      "execution_count": 40,
      "outputs": []
    },
    {
      "cell_type": "code",
      "source": [
        "from DataPreparation import DataPreparation\n",
        "from ProfSkillsClusts import buildLDAmodel\n",
        "import pandas as pd"
      ],
      "metadata": {
        "id": "KQ6MoMqCuMl4"
      },
      "execution_count": 12,
      "outputs": []
    },
    {
      "cell_type": "code",
      "source": [
        "from gensim.models import CoherenceModel"
      ],
      "metadata": {
        "id": "YXYhepA8zAzm"
      },
      "execution_count": 18,
      "outputs": []
    },
    {
      "cell_type": "code",
      "source": [
        "mConfig: dict = {'minimum_probability': 0.3,\n",
        "                   # \"num_topics\": 25,\n",
        "                'eta': 0.6,\n",
        "                   \"passes\": 8,\n",
        "                   \"alpha\": 'auto',\n",
        "                   \"random_state\": 0,\n",
        "                   \"update_every\": 1,\n",
        "                   \"chunksize\":100}\n",
        "\n",
        "nameClustModel = 'LdaModel5.pkl'\n",
        "resume = 'ml python алгоритм'\n",
        "dataPath: str = './data/database.csv'\n",
        "pathLemmasTexts: str = './data/prepdf.csv'\n",
        "nameClustModel: str = 'LdaModel10.pkl'\n",
        "saveDirModels: str = './models'\n",
        "resume: str = 'Знаю на хорошем уровне плис, soc, pild'\n",
        ""
      ],
      "metadata": {
        "id": "yLUIZt-tt2fV"
      },
      "execution_count": 54,
      "outputs": []
    },
    {
      "cell_type": "code",
      "source": [
        "dataPrep = DataPreparation(dataPath)\n",
        "dataPrep.run(baseTokenIsSkills=True,\n",
        "                 pathSaveLemmasTexts=pathLemmasTexts)\n",
        "\n",
        "preparedDf = dataPrep.prepDF\n",
        "LDAmodel = buildLDAmodel(prepareDF=preparedDf,\n",
        "                             descriptionRegexPattern=dataPrep.regexPatterns['Description'],\n",
        "                             vocab=dataPrep.skillSet,\n",
        "                             oneHotSkills=dataPrep.oneHotSkills)\n",
        "\n",
        "LDAmodel.fit_predict(modelName=nameClustModel,\n",
        "                     savePath=saveDirModels,\n",
        "                     modelConfig = mConfig)\n",
        "\n",
        "LDAmodel.recommendProfsSkillsVacs(resume)"
      ],
      "metadata": {
        "colab": {
          "base_uri": "https://localhost:8080/"
        },
        "id": "2uX-aAbAuGMB",
        "outputId": "8345a3b3-8ac4-40b0-c05b-e592e5f32792"
      },
      "execution_count": 28,
      "outputs": [
        {
          "output_type": "stream",
          "name": "stdout",
          "text": [
            "Данные загружены c (./data/prepdf.csv)\n",
            "Создание списка всех навыков...\n",
            "Данные загружены c (./data/oneHotSkills.pkl)\n",
            "Создание модели LDA. Обучение модели...\n",
            "Файл сохранен в ./models/LdaModel10.pkl\n",
            "Рекомендуемая профессия: с++ c++\n",
            "Самые частые навыки для подобранного кластера профессий (помимо указанных в вашем резюме):\n",
            "['виртуализация', 'embedded', 'микроконтроллер', 'тестирование', 'python', 'linux', 'ооп', 'ос', 'c', 'git', 'автоматизация', 'arm', 'bash', 'документация', 'алгоритм', 'архитектура']\n",
            "Рекомедую изучить следующие навыки:\n",
            "['linux', 'git', 'embedded', 'c', 'архитектура']\n",
            "Рекомендуемые вакансии\n",
            "Файл сохранен в ./data/Recomendations.csv\n"
          ]
        }
      ]
    },
    {
      "cell_type": "code",
      "source": [
        "pd.read_csv(r'./data/Recomendations.csv', index_col=0)"
      ],
      "metadata": {
        "id": "N_q5nAfMu0n0",
        "colab": {
          "base_uri": "https://localhost:8080/",
          "height": 515
        },
        "outputId": "ca88bfbc-6437-4f06-8160-48fb6c5d2138"
      },
      "execution_count": 29,
      "outputs": [
        {
          "output_type": "execute_result",
          "data": {
            "text/plain": [
              "                                                   Employer  \\\n",
              "Ids                                                           \n",
              "88806474  {'id': '1375778', 'name': 'Ай Би Си Солюшнс', ...   \n",
              "88895477  {'id': '5174849', 'name': 'Wanted', 'url': 'ht...   \n",
              "88850580  {'id': '1865528', 'name': 'Солнечный ветер', '...   \n",
              "88848245  {'id': '5561311', 'name': 'BrainShells', 'url'...   \n",
              "67445784  {'id': '3435', 'name': 'Топ Системы', 'url': '...   \n",
              "\n",
              "                                                       Name  Salary      From  \\\n",
              "Ids                                                                             \n",
              "88806474                     Программист систем «Умный дом»    True  110000.0   \n",
              "88895477                                    C++ разработчик    True       NaN   \n",
              "88850580  Начинающий программист-математик (python, маши...    True       NaN   \n",
              "88848245  Senior Java Engineer (JavaSE, algorithms, opti...    True  474645.0   \n",
              "67445784                                    Разработчик С++   False       NaN   \n",
              "\n",
              "                To                                         Experience  \\\n",
              "Ids                                                                     \n",
              "88806474       NaN  {'id': 'between1And3', 'name': 'От 1 года до 3...   \n",
              "88895477  450000.0    {'id': 'between3And6', 'name': 'От 3 до 6 лет'}   \n",
              "88850580  100000.0  {'id': 'between1And3', 'name': 'От 1 года до 3...   \n",
              "88848245       NaN         {'id': 'moreThan6', 'name': 'Более 6 лет'}   \n",
              "67445784       NaN  {'id': 'between1And3', 'name': 'От 1 года до 3...   \n",
              "\n",
              "                                              Schedule  \\\n",
              "Ids                                                      \n",
              "88806474      {'id': 'fullDay', 'name': 'Полный день'}   \n",
              "88895477   {'id': 'flexible', 'name': 'Гибкий график'}   \n",
              "88850580   {'id': 'flexible', 'name': 'Гибкий график'}   \n",
              "88848245  {'id': 'remote', 'name': 'Удаленная работа'}   \n",
              "67445784      {'id': 'fullDay', 'name': 'Полный день'}   \n",
              "\n",
              "                                                       Keys  \\\n",
              "Ids                                                           \n",
              "88806474  ['Java', 'Разработка ПО', 'Разработка техничес...   \n",
              "88895477                                            ['C++']   \n",
              "88850580  ['C#', 'MongoDB', 'Big Data', 'Python', 'Jupit...   \n",
              "88848245  ['Статистический анализ', 'Java SE', 'C++', 'J...   \n",
              "67445784                                     ['C++', 'STL']   \n",
              "\n",
              "                                                Description  \n",
              "Ids                                                          \n",
              "88806474  Обязанности:  работа с различным оборудованием...  \n",
              "88895477  Крупнейшая российская технологическая компания...  \n",
              "88850580  Ищем начинающего программиста-математика в про...  \n",
              "88848245  Мы - IT-компания, c 2015 года специализируемся...  \n",
              "67445784  Предлагаем Вам присоединиться к разработчикам ...  "
            ],
            "text/html": [
              "\n",
              "  <div id=\"df-287ae76e-3cb6-457e-9c80-d74ce5fb65c5\" class=\"colab-df-container\">\n",
              "    <div>\n",
              "<style scoped>\n",
              "    .dataframe tbody tr th:only-of-type {\n",
              "        vertical-align: middle;\n",
              "    }\n",
              "\n",
              "    .dataframe tbody tr th {\n",
              "        vertical-align: top;\n",
              "    }\n",
              "\n",
              "    .dataframe thead th {\n",
              "        text-align: right;\n",
              "    }\n",
              "</style>\n",
              "<table border=\"1\" class=\"dataframe\">\n",
              "  <thead>\n",
              "    <tr style=\"text-align: right;\">\n",
              "      <th></th>\n",
              "      <th>Employer</th>\n",
              "      <th>Name</th>\n",
              "      <th>Salary</th>\n",
              "      <th>From</th>\n",
              "      <th>To</th>\n",
              "      <th>Experience</th>\n",
              "      <th>Schedule</th>\n",
              "      <th>Keys</th>\n",
              "      <th>Description</th>\n",
              "    </tr>\n",
              "    <tr>\n",
              "      <th>Ids</th>\n",
              "      <th></th>\n",
              "      <th></th>\n",
              "      <th></th>\n",
              "      <th></th>\n",
              "      <th></th>\n",
              "      <th></th>\n",
              "      <th></th>\n",
              "      <th></th>\n",
              "      <th></th>\n",
              "    </tr>\n",
              "  </thead>\n",
              "  <tbody>\n",
              "    <tr>\n",
              "      <th>88806474</th>\n",
              "      <td>{'id': '1375778', 'name': 'Ай Би Си Солюшнс', ...</td>\n",
              "      <td>Программист систем «Умный дом»</td>\n",
              "      <td>True</td>\n",
              "      <td>110000.0</td>\n",
              "      <td>NaN</td>\n",
              "      <td>{'id': 'between1And3', 'name': 'От 1 года до 3...</td>\n",
              "      <td>{'id': 'fullDay', 'name': 'Полный день'}</td>\n",
              "      <td>['Java', 'Разработка ПО', 'Разработка техничес...</td>\n",
              "      <td>Обязанности:  работа с различным оборудованием...</td>\n",
              "    </tr>\n",
              "    <tr>\n",
              "      <th>88895477</th>\n",
              "      <td>{'id': '5174849', 'name': 'Wanted', 'url': 'ht...</td>\n",
              "      <td>C++ разработчик</td>\n",
              "      <td>True</td>\n",
              "      <td>NaN</td>\n",
              "      <td>450000.0</td>\n",
              "      <td>{'id': 'between3And6', 'name': 'От 3 до 6 лет'}</td>\n",
              "      <td>{'id': 'flexible', 'name': 'Гибкий график'}</td>\n",
              "      <td>['C++']</td>\n",
              "      <td>Крупнейшая российская технологическая компания...</td>\n",
              "    </tr>\n",
              "    <tr>\n",
              "      <th>88850580</th>\n",
              "      <td>{'id': '1865528', 'name': 'Солнечный ветер', '...</td>\n",
              "      <td>Начинающий программист-математик (python, маши...</td>\n",
              "      <td>True</td>\n",
              "      <td>NaN</td>\n",
              "      <td>100000.0</td>\n",
              "      <td>{'id': 'between1And3', 'name': 'От 1 года до 3...</td>\n",
              "      <td>{'id': 'flexible', 'name': 'Гибкий график'}</td>\n",
              "      <td>['C#', 'MongoDB', 'Big Data', 'Python', 'Jupit...</td>\n",
              "      <td>Ищем начинающего программиста-математика в про...</td>\n",
              "    </tr>\n",
              "    <tr>\n",
              "      <th>88848245</th>\n",
              "      <td>{'id': '5561311', 'name': 'BrainShells', 'url'...</td>\n",
              "      <td>Senior Java Engineer (JavaSE, algorithms, opti...</td>\n",
              "      <td>True</td>\n",
              "      <td>474645.0</td>\n",
              "      <td>NaN</td>\n",
              "      <td>{'id': 'moreThan6', 'name': 'Более 6 лет'}</td>\n",
              "      <td>{'id': 'remote', 'name': 'Удаленная работа'}</td>\n",
              "      <td>['Статистический анализ', 'Java SE', 'C++', 'J...</td>\n",
              "      <td>Мы - IT-компания, c 2015 года специализируемся...</td>\n",
              "    </tr>\n",
              "    <tr>\n",
              "      <th>67445784</th>\n",
              "      <td>{'id': '3435', 'name': 'Топ Системы', 'url': '...</td>\n",
              "      <td>Разработчик С++</td>\n",
              "      <td>False</td>\n",
              "      <td>NaN</td>\n",
              "      <td>NaN</td>\n",
              "      <td>{'id': 'between1And3', 'name': 'От 1 года до 3...</td>\n",
              "      <td>{'id': 'fullDay', 'name': 'Полный день'}</td>\n",
              "      <td>['C++', 'STL']</td>\n",
              "      <td>Предлагаем Вам присоединиться к разработчикам ...</td>\n",
              "    </tr>\n",
              "  </tbody>\n",
              "</table>\n",
              "</div>\n",
              "    <div class=\"colab-df-buttons\">\n",
              "\n",
              "  <div class=\"colab-df-container\">\n",
              "    <button class=\"colab-df-convert\" onclick=\"convertToInteractive('df-287ae76e-3cb6-457e-9c80-d74ce5fb65c5')\"\n",
              "            title=\"Convert this dataframe to an interactive table.\"\n",
              "            style=\"display:none;\">\n",
              "\n",
              "  <svg xmlns=\"http://www.w3.org/2000/svg\" height=\"24px\" viewBox=\"0 -960 960 960\">\n",
              "    <path d=\"M120-120v-720h720v720H120Zm60-500h600v-160H180v160Zm220 220h160v-160H400v160Zm0 220h160v-160H400v160ZM180-400h160v-160H180v160Zm440 0h160v-160H620v160ZM180-180h160v-160H180v160Zm440 0h160v-160H620v160Z\"/>\n",
              "  </svg>\n",
              "    </button>\n",
              "\n",
              "  <style>\n",
              "    .colab-df-container {\n",
              "      display:flex;\n",
              "      gap: 12px;\n",
              "    }\n",
              "\n",
              "    .colab-df-convert {\n",
              "      background-color: #E8F0FE;\n",
              "      border: none;\n",
              "      border-radius: 50%;\n",
              "      cursor: pointer;\n",
              "      display: none;\n",
              "      fill: #1967D2;\n",
              "      height: 32px;\n",
              "      padding: 0 0 0 0;\n",
              "      width: 32px;\n",
              "    }\n",
              "\n",
              "    .colab-df-convert:hover {\n",
              "      background-color: #E2EBFA;\n",
              "      box-shadow: 0px 1px 2px rgba(60, 64, 67, 0.3), 0px 1px 3px 1px rgba(60, 64, 67, 0.15);\n",
              "      fill: #174EA6;\n",
              "    }\n",
              "\n",
              "    .colab-df-buttons div {\n",
              "      margin-bottom: 4px;\n",
              "    }\n",
              "\n",
              "    [theme=dark] .colab-df-convert {\n",
              "      background-color: #3B4455;\n",
              "      fill: #D2E3FC;\n",
              "    }\n",
              "\n",
              "    [theme=dark] .colab-df-convert:hover {\n",
              "      background-color: #434B5C;\n",
              "      box-shadow: 0px 1px 3px 1px rgba(0, 0, 0, 0.15);\n",
              "      filter: drop-shadow(0px 1px 2px rgba(0, 0, 0, 0.3));\n",
              "      fill: #FFFFFF;\n",
              "    }\n",
              "  </style>\n",
              "\n",
              "    <script>\n",
              "      const buttonEl =\n",
              "        document.querySelector('#df-287ae76e-3cb6-457e-9c80-d74ce5fb65c5 button.colab-df-convert');\n",
              "      buttonEl.style.display =\n",
              "        google.colab.kernel.accessAllowed ? 'block' : 'none';\n",
              "\n",
              "      async function convertToInteractive(key) {\n",
              "        const element = document.querySelector('#df-287ae76e-3cb6-457e-9c80-d74ce5fb65c5');\n",
              "        const dataTable =\n",
              "          await google.colab.kernel.invokeFunction('convertToInteractive',\n",
              "                                                    [key], {});\n",
              "        if (!dataTable) return;\n",
              "\n",
              "        const docLinkHtml = 'Like what you see? Visit the ' +\n",
              "          '<a target=\"_blank\" href=https://colab.research.google.com/notebooks/data_table.ipynb>data table notebook</a>'\n",
              "          + ' to learn more about interactive tables.';\n",
              "        element.innerHTML = '';\n",
              "        dataTable['output_type'] = 'display_data';\n",
              "        await google.colab.output.renderOutput(dataTable, element);\n",
              "        const docLink = document.createElement('div');\n",
              "        docLink.innerHTML = docLinkHtml;\n",
              "        element.appendChild(docLink);\n",
              "      }\n",
              "    </script>\n",
              "  </div>\n",
              "\n",
              "\n",
              "<div id=\"df-2c369eb2-3cd9-48bb-8aaf-5c6106f451a5\">\n",
              "  <button class=\"colab-df-quickchart\" onclick=\"quickchart('df-2c369eb2-3cd9-48bb-8aaf-5c6106f451a5')\"\n",
              "            title=\"Suggest charts\"\n",
              "            style=\"display:none;\">\n",
              "\n",
              "<svg xmlns=\"http://www.w3.org/2000/svg\" height=\"24px\"viewBox=\"0 0 24 24\"\n",
              "     width=\"24px\">\n",
              "    <g>\n",
              "        <path d=\"M19 3H5c-1.1 0-2 .9-2 2v14c0 1.1.9 2 2 2h14c1.1 0 2-.9 2-2V5c0-1.1-.9-2-2-2zM9 17H7v-7h2v7zm4 0h-2V7h2v10zm4 0h-2v-4h2v4z\"/>\n",
              "    </g>\n",
              "</svg>\n",
              "  </button>\n",
              "\n",
              "<style>\n",
              "  .colab-df-quickchart {\n",
              "      --bg-color: #E8F0FE;\n",
              "      --fill-color: #1967D2;\n",
              "      --hover-bg-color: #E2EBFA;\n",
              "      --hover-fill-color: #174EA6;\n",
              "      --disabled-fill-color: #AAA;\n",
              "      --disabled-bg-color: #DDD;\n",
              "  }\n",
              "\n",
              "  [theme=dark] .colab-df-quickchart {\n",
              "      --bg-color: #3B4455;\n",
              "      --fill-color: #D2E3FC;\n",
              "      --hover-bg-color: #434B5C;\n",
              "      --hover-fill-color: #FFFFFF;\n",
              "      --disabled-bg-color: #3B4455;\n",
              "      --disabled-fill-color: #666;\n",
              "  }\n",
              "\n",
              "  .colab-df-quickchart {\n",
              "    background-color: var(--bg-color);\n",
              "    border: none;\n",
              "    border-radius: 50%;\n",
              "    cursor: pointer;\n",
              "    display: none;\n",
              "    fill: var(--fill-color);\n",
              "    height: 32px;\n",
              "    padding: 0;\n",
              "    width: 32px;\n",
              "  }\n",
              "\n",
              "  .colab-df-quickchart:hover {\n",
              "    background-color: var(--hover-bg-color);\n",
              "    box-shadow: 0 1px 2px rgba(60, 64, 67, 0.3), 0 1px 3px 1px rgba(60, 64, 67, 0.15);\n",
              "    fill: var(--button-hover-fill-color);\n",
              "  }\n",
              "\n",
              "  .colab-df-quickchart-complete:disabled,\n",
              "  .colab-df-quickchart-complete:disabled:hover {\n",
              "    background-color: var(--disabled-bg-color);\n",
              "    fill: var(--disabled-fill-color);\n",
              "    box-shadow: none;\n",
              "  }\n",
              "\n",
              "  .colab-df-spinner {\n",
              "    border: 2px solid var(--fill-color);\n",
              "    border-color: transparent;\n",
              "    border-bottom-color: var(--fill-color);\n",
              "    animation:\n",
              "      spin 1s steps(1) infinite;\n",
              "  }\n",
              "\n",
              "  @keyframes spin {\n",
              "    0% {\n",
              "      border-color: transparent;\n",
              "      border-bottom-color: var(--fill-color);\n",
              "      border-left-color: var(--fill-color);\n",
              "    }\n",
              "    20% {\n",
              "      border-color: transparent;\n",
              "      border-left-color: var(--fill-color);\n",
              "      border-top-color: var(--fill-color);\n",
              "    }\n",
              "    30% {\n",
              "      border-color: transparent;\n",
              "      border-left-color: var(--fill-color);\n",
              "      border-top-color: var(--fill-color);\n",
              "      border-right-color: var(--fill-color);\n",
              "    }\n",
              "    40% {\n",
              "      border-color: transparent;\n",
              "      border-right-color: var(--fill-color);\n",
              "      border-top-color: var(--fill-color);\n",
              "    }\n",
              "    60% {\n",
              "      border-color: transparent;\n",
              "      border-right-color: var(--fill-color);\n",
              "    }\n",
              "    80% {\n",
              "      border-color: transparent;\n",
              "      border-right-color: var(--fill-color);\n",
              "      border-bottom-color: var(--fill-color);\n",
              "    }\n",
              "    90% {\n",
              "      border-color: transparent;\n",
              "      border-bottom-color: var(--fill-color);\n",
              "    }\n",
              "  }\n",
              "</style>\n",
              "\n",
              "  <script>\n",
              "    async function quickchart(key) {\n",
              "      const quickchartButtonEl =\n",
              "        document.querySelector('#' + key + ' button');\n",
              "      quickchartButtonEl.disabled = true;  // To prevent multiple clicks.\n",
              "      quickchartButtonEl.classList.add('colab-df-spinner');\n",
              "      try {\n",
              "        const charts = await google.colab.kernel.invokeFunction(\n",
              "            'suggestCharts', [key], {});\n",
              "      } catch (error) {\n",
              "        console.error('Error during call to suggestCharts:', error);\n",
              "      }\n",
              "      quickchartButtonEl.classList.remove('colab-df-spinner');\n",
              "      quickchartButtonEl.classList.add('colab-df-quickchart-complete');\n",
              "    }\n",
              "    (() => {\n",
              "      let quickchartButtonEl =\n",
              "        document.querySelector('#df-2c369eb2-3cd9-48bb-8aaf-5c6106f451a5 button');\n",
              "      quickchartButtonEl.style.display =\n",
              "        google.colab.kernel.accessAllowed ? 'block' : 'none';\n",
              "    })();\n",
              "  </script>\n",
              "</div>\n",
              "    </div>\n",
              "  </div>\n"
            ]
          },
          "metadata": {},
          "execution_count": 29
        }
      ]
    },
    {
      "cell_type": "code",
      "source": [
        "# Compute Perplexity\n",
        "print('\\nPerplexity: ', LDAmodel.model.log_perplexity(LDAmodel.encodeCorpus))  # a measure of how good the model is. lower the better.\n",
        "\n",
        "# Compute Coherence Score\n",
        "coherence_model_lda = CoherenceModel(model=LDAmodel.model, texts=LDAmodel.resDF.VacancyCorpus, dictionary=LDAmodel.id2word, coherence='c_v')\n",
        "coherence_lda = coherence_model_lda.get_coherence()\n",
        "print('\\nCoherence Score: ', coherence_lda)"
      ],
      "metadata": {
        "colab": {
          "base_uri": "https://localhost:8080/"
        },
        "id": "6VrV54RIxRu-",
        "outputId": "6cb86c8b-ed9e-47cd-8331-2043c41de220"
      },
      "execution_count": 30,
      "outputs": [
        {
          "output_type": "stream",
          "name": "stdout",
          "text": [
            "\n",
            "Perplexity:  -5.862147905848376\n",
            "\n",
            "Coherence Score:  0.4426761401535464\n"
          ]
        }
      ]
    },
    {
      "cell_type": "code",
      "source": [
        "def compute_coherence_values(dictionary, corpus, texts, limit, start=2, step=3):\n",
        "    \"\"\"\n",
        "    Compute c_v coherence for various number of topics\n",
        "\n",
        "    Parameters:\n",
        "    ----------\n",
        "    dictionary : Gensim dictionary\n",
        "    corpus : Gensim corpus\n",
        "    texts : List of input texts\n",
        "    limit : Max num of topics\n",
        "\n",
        "    Returns:\n",
        "    -------\n",
        "    model_list : List of LDA topic models\n",
        "    coherence_values : Coherence values corresponding to the LDA model with respective number of topics\n",
        "    \"\"\"\n",
        "    coherence_values = []\n",
        "    model_list = []\n",
        "    for num_topics in trange(start, limit, step):\n",
        "        model = gensim.models.LdaModel(LDAmodel.encodeCorpus,\n",
        "                                       id2word=LDAmodel.id2word,\n",
        "                                       num_topics=num_topics,\n",
        "                                       **mConfig)\n",
        "        model_list.append(model)\n",
        "        coherencemodel = CoherenceModel(model=model, texts=texts, dictionary=dictionary, coherence='c_v')\n",
        "        coherence_values.append(coherencemodel.get_coherence())\n",
        "\n",
        "    return model_list, coherence_values"
      ],
      "metadata": {
        "id": "zyyYJjqtz2Il"
      },
      "execution_count": 55,
      "outputs": []
    },
    {
      "cell_type": "code",
      "source": [
        "mConfig: dict = {\n",
        "                 'eta': 0.6,\n",
        "                   \"passes\": 8,\n",
        "                   \"alpha\": 'auto',\n",
        "                   \"random_state\": 0,\n",
        "                   \"update_every\": 1,\n",
        "                   \"chunksize\":100}\n",
        "mm, cv = compute_coherence_values(dictionary = LDAmodel.id2word,\n",
        "                         corpus = LDAmodel.encodeCorpus,\n",
        "                         texts = LDAmodel.resDF.VacancyCorpus,\n",
        "                         limit = 50, start=10, step=5)"
      ],
      "metadata": {
        "colab": {
          "base_uri": "https://localhost:8080/"
        },
        "id": "hFfO_Hae2GN7",
        "outputId": "2faf82ea-790c-46fe-c0b1-94a3470a5bda"
      },
      "execution_count": 56,
      "outputs": [
        {
          "output_type": "stream",
          "name": "stderr",
          "text": [
            "100%|██████████| 8/8 [00:51<00:00,  6.47s/it]\n"
          ]
        }
      ]
    },
    {
      "cell_type": "code",
      "source": [
        "x = range(10, 50, 5)\n",
        "plt.plot(x, cv)\n",
        "plt.xlabel(\"Num Topics\")\n",
        "plt.ylabel(\"Coherence score\")\n",
        "plt.legend((\"coherence_values\"), loc='best')\n",
        "plt.show()"
      ],
      "metadata": {
        "colab": {
          "base_uri": "https://localhost:8080/",
          "height": 449
        },
        "id": "rTftlomM5H_z",
        "outputId": "bdc52caf-e365-4f34-cb9b-009e62ad5a2d"
      },
      "execution_count": 57,
      "outputs": [
        {
          "output_type": "display_data",
          "data": {
            "text/plain": [
              "<Figure size 640x480 with 1 Axes>"
            ],
            "image/png": "[encoded data removed]"
          },
          "metadata": {}
        }
      ]
    },
    {
      "cell_type": "code",
      "source": [],
      "metadata": {
        "id": "a-dy8gY04RpD"
      },
      "execution_count": null,
      "outputs": []
    }
  ]
}